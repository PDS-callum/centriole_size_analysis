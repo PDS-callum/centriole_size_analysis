{
 "cells": [
  {
   "cell_type": "code",
   "execution_count": 4,
   "metadata": {},
   "outputs": [],
   "source": [
    "from utils.general_utils import *\n",
    "import numpy as np\n",
    "import pandas as pd\n",
    "import glob"
   ]
  },
  {
   "cell_type": "code",
   "execution_count": 5,
   "metadata": {},
   "outputs": [],
   "source": [
    "path_to_data = \"centriole_test_data/*/*.jpg\" # * indicates that any string can fill this part of the path\n",
    "save_path = \"out_images\" # Just a path to a directory to save labelled images in"
   ]
  },
  {
   "cell_type": "code",
   "execution_count": 6,
   "metadata": {},
   "outputs": [
    {
     "data": {
      "text/html": [
       "<div>\n",
       "<style scoped>\n",
       "    .dataframe tbody tr th:only-of-type {\n",
       "        vertical-align: middle;\n",
       "    }\n",
       "\n",
       "    .dataframe tbody tr th {\n",
       "        vertical-align: top;\n",
       "    }\n",
       "\n",
       "    .dataframe thead th {\n",
       "        text-align: right;\n",
       "    }\n",
       "</style>\n",
       "<table border=\"1\" class=\"dataframe\">\n",
       "  <thead>\n",
       "    <tr style=\"text-align: right;\">\n",
       "      <th></th>\n",
       "      <th>coordinate</th>\n",
       "      <th>radius</th>\n",
       "      <th>filename</th>\n",
       "    </tr>\n",
       "  </thead>\n",
       "  <tbody>\n",
       "    <tr>\n",
       "      <th>0</th>\n",
       "      <td>(1618, 892)</td>\n",
       "      <td>94</td>\n",
       "      <td>mTeSR plus-mTeSR3D_D1-1.jpg</td>\n",
       "    </tr>\n",
       "    <tr>\n",
       "      <th>1</th>\n",
       "      <td>(1244, 40)</td>\n",
       "      <td>45</td>\n",
       "      <td>mTeSR plus-mTeSR3D_D1-1.jpg</td>\n",
       "    </tr>\n",
       "    <tr>\n",
       "      <th>2</th>\n",
       "      <td>(1776, 818)</td>\n",
       "      <td>68</td>\n",
       "      <td>mTeSR plus-mTeSR3D_D1-1.jpg</td>\n",
       "    </tr>\n",
       "    <tr>\n",
       "      <th>3</th>\n",
       "      <td>(834, 420)</td>\n",
       "      <td>46</td>\n",
       "      <td>mTeSR plus-mTeSR3D_D1-1.jpg</td>\n",
       "    </tr>\n",
       "    <tr>\n",
       "      <th>4</th>\n",
       "      <td>(490, 942)</td>\n",
       "      <td>41</td>\n",
       "      <td>mTeSR plus-mTeSR3D_D1-1.jpg</td>\n",
       "    </tr>\n",
       "  </tbody>\n",
       "</table>\n",
       "</div>"
      ],
      "text/plain": [
       "    coordinate  radius                     filename\n",
       "0  (1618, 892)      94  mTeSR plus-mTeSR3D_D1-1.jpg\n",
       "1   (1244, 40)      45  mTeSR plus-mTeSR3D_D1-1.jpg\n",
       "2  (1776, 818)      68  mTeSR plus-mTeSR3D_D1-1.jpg\n",
       "3   (834, 420)      46  mTeSR plus-mTeSR3D_D1-1.jpg\n",
       "4   (490, 942)      41  mTeSR plus-mTeSR3D_D1-1.jpg"
      ]
     },
     "execution_count": 6,
     "metadata": {},
     "output_type": "execute_result"
    }
   ],
   "source": [
    "all_paths = glob.glob(path_to_data)\n",
    "circles_data_df = annotate_images(all_paths,save_path)\n",
    "circles_data_df.head() # To show the way the data is stored. You can also save this to a csv with .to_csv() if you need to. See Pandas documentation."
   ]
  },
  {
   "cell_type": "code",
   "execution_count": 8,
   "metadata": {},
   "outputs": [
    {
     "data": {
      "image/png": "[encoded data removed]",
      "text/plain": [
       "<Figure size 640x480 with 1 Axes>"
      ]
     },
     "metadata": {},
     "output_type": "display_data"
    }
   ],
   "source": [
    "file_name = \"mTeSR plus Stemflex D2-1.jpg\"\n",
    "query_df = circles_data_df.query(\"filename == @file_name\").hist(bins=15) # This just queries the enties for the file and then creates a histogram"
   ]
  }
 ],
 "metadata": {
  "kernelspec": {
   "display_name": ".venv",
   "language": "python",
   "name": "python3"
  },
  "language_info": {
   "codemirror_mode": {
    "name": "ipython",
    "version": 3
   },
   "file_extension": ".py",
   "mimetype": "text/x-python",
   "name": "python",
   "nbconvert_exporter": "python",
   "pygments_lexer": "ipython3",
   "version": "3.12.3"
  }
 },
 "nbformat": 4,
 "nbformat_minor": 2
}
